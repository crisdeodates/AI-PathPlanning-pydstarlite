{
 "cells": [
  {
   "cell_type": "code",
   "execution_count": 1,
   "metadata": {
    "collapsed": true
   },
   "outputs": [],
   "source": [
    "from pydstarlite.implementation import *\n",
    "from pydstarlite.lpa_star import LPAStar\n",
    "from pydstarlite.dstarlite import DStarLite\n",
    "from matplotlib import pyplot as plt\n",
    "import numpy as np\n",
    "from matplotlib import animation\n",
    "from IPython.display import HTML\n",
    "%matplotlib inline"
   ]
  },
  {
   "cell_type": "code",
   "execution_count": 2,
   "metadata": {
    "collapsed": true
   },
   "outputs": [],
   "source": [
    "from pydstarlite.implementation import draw_grid"
   ]
  },
  {
   "cell_type": "code",
   "execution_count": 3,
   "metadata": {
    "collapsed": true
   },
   "outputs": [],
   "source": [
    "graph1 = grid_from_string(\"\"\"\n",
    "..........\n",
    "...######.\n",
    "........#.\n",
    "...######.\n",
    "...#....#.\n",
    "...#....#.\n",
    "........#.\n",
    "........#.\n",
    "........#.\n",
    "..........\n",
    "\"\"\")"
   ]
  },
  {
   "cell_type": "code",
   "execution_count": 23,
   "metadata": {
    "collapsed": true
   },
   "outputs": [],
   "source": [
    "START=(7,2)\n",
    "END=(7,8)"
   ]
  },
  {
   "cell_type": "code",
   "execution_count": 24,
   "metadata": {
    "scrolled": true
   },
   "outputs": [
    {
     "name": "stdout",
     "output_type": "stream",
     "text": [
      ". . . . . . . . . . \n",
      ". . . ############. \n",
      ". . . . . . . A ##. \n",
      ". . . ############. \n",
      ". . . ##. . . . ##. \n",
      ". . . ##. . . . ##. \n",
      ". . . . . . . . ##. \n",
      ". . . . . . . . ##. \n",
      ". . . . . . . Z ##. \n",
      ". . . . . . . . . . \n"
     ]
    }
   ],
   "source": [
    "draw_grid(graph1, start=START, goal=END)"
   ]
  },
  {
   "cell_type": "code",
   "execution_count": 25,
   "metadata": {},
   "outputs": [
    {
     "data": {
      "image/png": "[encoded data removed]",
      "text/plain": [
       "<matplotlib.figure.Figure at 0x1108d8c88>"
      ]
     },
     "metadata": {},
     "output_type": "display_data"
    }
   ],
   "source": [
    "data = np.random.randint(0, 2, size=(10,10))\n",
    "fig = plt.figure(figsize=(10,10))\n",
    "ax = plt.axes()\n",
    "img = ax.imshow(data)"
   ]
  },
  {
   "cell_type": "code",
   "execution_count": 26,
   "metadata": {
    "collapsed": true
   },
   "outputs": [],
   "source": [
    "dstar = DStarLite(graph1, START, END)"
   ]
  },
  {
   "cell_type": "code",
   "execution_count": 27,
   "metadata": {
    "collapsed": true
   },
   "outputs": [],
   "source": [
    "SIMULATION = dstar.move_to_goal()"
   ]
  },
  {
   "cell_type": "code",
   "execution_count": 28,
   "metadata": {
    "collapsed": true
   },
   "outputs": [],
   "source": [
    "def init():\n",
    "    img.set_data(data)\n",
    "    return img,"
   ]
  },
  {
   "cell_type": "code",
   "execution_count": 29,
   "metadata": {
    "collapsed": true
   },
   "outputs": [],
   "source": [
    "def animate(current_pos):\n",
    "    tmp = np.zeros_like(data)\n",
    "\n",
    "    tmp[current_pos[1], current_pos[0]] = 1\n",
    "    img.set_data(tmp)\n",
    "    return img,"
   ]
  },
  {
   "cell_type": "code",
   "execution_count": 30,
   "metadata": {
    "collapsed": true
   },
   "outputs": [],
   "source": [
    "anim = animation.FuncAnimation(fig, animate, init_func=init,\n",
    "                               frames=SIMULATION, interval=200, blit=True)"
   ]
  },
  {
   "cell_type": "code",
   "execution_count": 31,
   "metadata": {},
   "outputs": [
    {
     "name": "stdout",
     "output_type": "stream",
     "text": [
      "Automatic pdb calling has been turned ON\n"
     ]
    }
   ],
   "source": [
    "%pdb"
   ]
  },
  {
   "cell_type": "code",
   "execution_count": 32,
   "metadata": {},
   "outputs": [
    {
     "data": {
      "text/html": [
       "<video width=\"720\" height=\"720\" controls autoplay loop>\n",
       "  <source type=\"video/mp4\" src=\"data:video/mp4;base64,AAAAHGZ0eXBNNFYgAAACAGlzb21pc28yYXZjMQAAAAhmcmVlAAAStW1kYXQAAAKuBgX//6rcRem9\n",
       "5tlIt5Ys2CDZI+7veDI2NCAtIGNvcmUgMTQ4IHIyNzQ4IDk3ZWFlZjIgLSBILjI2NC9NUEVHLTQg\n",
       "QVZDIGNvZGVjIC0gQ29weWxlZnQgMjAwMy0yMDE2IC0gaHR0cDovL3d3dy52aWRlb2xhbi5vcmcv\n",
       "eDI2NC5odG1sIC0gb3B0aW9uczogY2FiYWM9MSByZWY9MyBkZWJsb2NrPTE6MDowIGFuYWx5c2U9\n",
       "MHgzOjB4MTEzIG1lPWhleCBzdWJtZT03IHBzeT0xIHBzeV9yZD0xLjAwOjAuMDAgbWl4ZWRfcmVm\n",
       "PTEgbWVfcmFuZ2U9MTYgY2hyb21hX21lPTEgdHJlbGxpcz0xIDh4OGRjdD0xIGNxbT0wIGRlYWR6\n",
       "b25lPTIxLDExIGZhc3RfcHNraXA9MSBjaHJvbWFfcXBfb2Zmc2V0PS0yIHRocmVhZHM9MTIgbG9v\n",
       "a2FoZWFkX3RocmVhZHM9MiBzbGljZWRfdGhyZWFkcz0wIG5yPTAgZGVjaW1hdGU9MSBpbnRlcmxh\n",
       "Y2VkPTAgYmx1cmF5X2NvbXBhdD0wIGNvbnN0cmFpbmVkX2ludHJhPTAgYmZyYW1lcz0zIGJfcHly\n",
       "YW1pZD0yIGJfYWRhcHQ9MSBiX2JpYXM9MCBkaXJlY3Q9MSB3ZWlnaHRiPTEgb3Blbl9nb3A9MCB3\n",
       "ZWlnaHRwPTIga2V5aW50PTI1MCBrZXlpbnRfbWluPTUgc2NlbmVjdXQ9NDAgaW50cmFfcmVmcmVz\n",
       "aD0wIHJjX2xvb2thaGVhZD00MCByYz1jcmYgbWJ0cmVlPTEgY3JmPTIzLjAgcWNvbXA9MC42MCBx\n",
       "cG1pbj0wIHFwbWF4PTY5IHFwc3RlcD00IGlwX3JhdGlvPTEuNDAgYXE9MToxLjAwAIAAAAW5ZYiE\n",
       "ABL//vet34FNwEDta7pXOLTLq5Q0PVH2lKZ4tkgAAAMAAAMAAAMAepjy/qxN+Siw9AAAAwBAgAqQ\n",
       "FvBUmIxdCZY7AEV0ZYbEI2Dr0WgQeoG/P0I2c69UV5Ch9vX+/g9x0i7vBKUbh8IbsZs5nm8U2dfJ\n",
       "3QAAegohlgYZsLzFfJkiMF5mjYfskxxntXyXQDIUMFz8crRutXaL+BbatSyiMW/BEE3ZNpi2uurQ\n",
       "dOyZjlV9rcSCgfMVE373N2psJwAAAwNVWfHAEDhRF4+AWpq/FE7Uj14nfN5tWNq9WWGVjiqeitxa\n",
       "sZfLdQXoFrGHDtplxIBMpFU3doT4SM5nOdCGP9MqabmfqHzsOZYCXywtHzXLIaJulpcMidIANQN5\n",
       "EI60GwGEaVch6nxPMWtuoop6WMzkY6kxR/9mwc0Eyqy6YIT/IpgL+PEt3POk0OGxTIaMT8wDYFEx\n",
       "E2RkBE5ggRB3mDt0MZB9u6IZWPv0GqT+gi3AZppi00hqnq8RsIeCa3W+/NINqXkqY3LaZgnPu+qy\n",
       "xkxspFMZLNYEE1eyWoIyq9t33q9Ezqa46cyhK1FGU2aAiE0btc8YB2tjXcv+Eq6LA/MhvYQT/2gT\n",
       "03iKHE4FQu7gdyL2joKTH+6AuILeWnrS6nLbOLN/BDpoS+GODd9NVfSRVUCgpFt6WPh33VltNtNc\n",
       "1Dv62ipu4kgjrZeis0VWdiirVgrgRy4QBuR+4JagxdNOUHRgZD9ArictDVneOE6jrjS7BZevuiiR\n",
       "srwhrBmlyDisUv/CyMAfYFR/dv3KITiU7DtpLQOAj954OEoIdhHuh+9iZTWD7PeUGxYDDe+VdzmR\n",
       "3qPSwSzunTEnUFCgD3oQFIGI125LjpwOgAKpfDxdC+UEoEOH4wDmL/CjAbVFNb7h4oc6lFHTFFd5\n",
       "XzVKTeS5Msgfq//W4DaocUN1TJn/ih6kJImO/1qdAxaOz5n3tJ0BMuQI2glSXFg3ZpQkv9gScHle\n",
       "i+1PRjgFdC6z7JyAacxF/jxf4cYCPGAnxgKsYIz5VwAXNPSbFDfJHjuupfFVyPG6nYDIokpSlRQJ\n",
       "C3kZZKliSeqtuy2BOlNlvdltzxpOBapytwrLQIHRg2qbjQ8p5flg0lRQaSDySB0H+Y/tQBbjGUGH\n",
       "lBj5QZeUJEcWleLAXuA75T/Fk4ym8rPXF7WRGj6XZk7FvX+5mtTAWI5CQ1W2suo/iFIfEFjsgk21\n",
       "W5wMsHu/qd8P35u4mRyOnro+r3vMO7gD5cKbQYoHIYYczJ1KD6Y8wWO4ZXioOATx2k7at2yTcLSd\n",
       "RHTIUXLZQ07ifmHjFYKLNCrbe4G+X+lXfAFEdVgKGDtavDNx/ZfZatBr0nNB3obP68u03Zw+MlSu\n",
       "aId8tYaUZj7qUVyWSaOMpZn3y294bL/lm8pDA0DFSFL8icrObBA+T//tRxYGKBeXsjBaWQTLPxvR\n",
       "+Scxv+WNAKTa6Z1H9i3QqXIXXdFq4cPPckda4wH0laAmyCiVeUPFENsBQGAzLPxjPnEyBMyCrSGl\n",
       "Jwa058MzwY/9O/VPxE/Uzxs8vfLKgHIt3QWl6NrFwPh5d27A9C62Ov8kIiT0Xlxrs57Ae5aVuzJJ\n",
       "g33FY9QmZVKsr0ZRLL22merDIvj/kd3UdUL3v3gLi4Gh6P7Q7mq6LQCfc2PLQNYc5tWTTz+abqIi\n",
       "6wrsuALiQRxrLnHpowZs6tbmIjDdR5EuGCMVDvM1LiSczDbEez+/8KrozEkf2SHpAoI6K+jUkfIH\n",
       "kosO16lSeQN+IsB2WgktxoflnPYqbLcv/n7pJnEBvpWhykSAj+tvbxFdut/XUaE0DC4Pry/APcl9\n",
       "tBXX8Bw0XFQVYAzhl6semtwhD/jzsCe0UUn30orofVapnFvCAeG9t69AKpgTYAEcz3qxJ9LCyI/2\n",
       "2GbKvaU4iQ7v6YvnG6lkUrzBKGJEWqBAFuaAAACYgAAAAwADZwAAANJBmiFsQS/+tSqAAAADA+u4\n",
       "MjwGY0MAC6hOSC1DfS6nQfPrqpmiWcXGaJU6Z6rsdYTz/qlmTL20qMMTIgApHGQWdrG8NFAQzezo\n",
       "Y7VOvt098CY6ANoWvcGyYkeSNxyRO4pwHfhGL/jiol0faf7JIVdCadYvWqesAhzAdyHbdPrK2rrP\n",
       "5098kSWCuP4dc6mo5dkH6NScsxAkKQJaQOGxLTmu1XGeabzHvM4aAj7WVIvwcH0LvqaQAAADABnY\n",
       "Rr3UFivS73L+J7c2xU4F5f+jiim4OOAAAADJQZpCPCGTKYQS//61KoAAAAy3xrG29m16OvvcFX+f\n",
       "8sQAZzXJBQgAs/2LuyAT/up5sOaUXwQp6FqtrhzBjtJ/3ugJOaeYciUc+gkwTptq2m+O4QJs+W2o\n",
       "bKVkFvWkNsZEPVkbCScJOaqBMJlypFjTfLSre4nZASt5I5kTPn8ipIy0QoAGUeWVqRSk7ho9dp+i\n",
       "dz+2qqrh+oi5PWLfNMcH9BRqQUEhrk/0P4QOBy0oRqEg28hlRYzAjlQyUJmRVhDYNIAAAAMAADeh\n",
       "AAAAekGaY0nhDyZTAgl//rUqgAAABMGi6tLErCpLmTnYm7af4eV+gAXYiuTI7YoOTtKl9gv9t/jl\n",
       "SPIaPww/Imol7x2GQP+M6e//zzOEpS6Cb+9UMOlsXNvfXKnjYOMU/hMrUn4w5JrY/Ah7u7MY1q5h\n",
       "CDT7smUTNFCe9SxwAAAAjUGahEnhDyZTAgl//rUqgAAABS+InZ+P+5oAF0nff6srVaKTu9kIdSn1\n",
       "2sDMZ7gib5P+VeZHT6YN812yHQ99VQlmwH2u02SmSw6QMTzsiCQrDRHGieutCFvwRRn8OTuqSY3B\n",
       "CX8vXFUO8jjVAPZTeI6gIw97ka8+h2gGU2kBSsD2n+yN0YeWSZoPF+DugQAAAMVBmqZJ4Q8mUwUR\n",
       "PBD//qpVAAADAApfxevXC7uc2RPeRifGcyDF+07dfwX6TgBsZjO0bIipVzP5aKO4GWuWYX+jSzHT\n",
       "cEnn9oTyD/oNkVxb0pUVc7pCL0/QMpp6wLzq5oJzp4XriDAPeaDaLU/4Ya+MNmVkiiwGz1j4CDmr\n",
       "UqPDxLrBT/8l8d6o0PKfDTe1hDo6qrLlye/fiT8xL/u9TbBx/1+qtTGlBL2ieQlI84hw+GybDlm0\n",
       "oYztJIQOkQ4wAAAkCjkEXQAAALUBnsVqQ/8AAAMAIlEhpdpnfvctuACckyP+llwtvjGNrELLFzE6\n",
       "PAmnv7IJ4l1q/+zDAj3uuhDLwilD7CAOfYnsat4qFAp8oJLgdfsAiABTec2xRCs0sJu5hIfws0OD\n",
       "n2+3bS4ybCnAFKnovsy35K+Al2CUTBG9LMSCP/4h/Eab1o2+eHoDIAC7zL+8loA4OLTPvNw64Kxv\n",
       "j+ekQ7H2btyB++fI6PsHoToPUfZuHcgAAAMAAMqBAAAAmEGax0nhDyZTAh///qmWAAADAAFm+FbX\n",
       "h6gmjvAMDSGVUif9HkIsf4CE+ALD8SP/tSjWUWiW/0tqz9D3DVbRiwusNZqHRf3F/Q0upaeIw4ZW\n",
       "3skIsq+thikJQkXbJ16aYHvZhk7AuhS4KieKNeLoOh2QOi5hFhAgLOQw4Y6jLPgeS365KJ9oK8yH\n",
       "5QXB7BRnz3xIAAADAB8xAAAAWUGa6EnhDyZTAgl//rUqgAAAAwABb/okNt7Nr0NKhfD36CjT1H3H\n",
       "HwABr0ZW3EyAAZS3Jq4Ju0t/keKEPWwK3vDaOdKqt3Er3w2auGJSh8beUuE2YWAAAA44AAAArkGb\n",
       "CknhDyZTBRE8Ev/+tSqAAAADAAADA5PxrG29m16GlQvh79BRp6j7jj4AA2zcCj28A6pwwAVCrxHY\n",
       "q9vysAvTcLR0Y89J0LYRcbiErxLspf+zDAwQA7lWPrNPAOrlZtHtuBQ02injlwUz5ENRXASWGIsc\n",
       "U2z0KVZ8qFA4v+e5uIuVCSadt+hFJxwMC9NfcqfnycEEp7l4srC8j2wwYZpEo2LkS9F1/wRF6AAX\n",
       "cAAAAD8BnylqQ/8AAAMAIlEhimAKOelLONiIcIH4iSstb1r0dWojFpka8wAHKeR//hWkwdCoIAR9\n",
       "SjuruHT/Ms4AJeEAAADaQZssSeEPJlMFPBH//rUqgAAAAwAAAwAASH7NzL2bB1VpQt14SgbRfNLX\n",
       "EQAIVf6NIm3MAFPpF/5CcaE3TBxhfzH/YRM5+qXSyCdblpsfvVw2yxwkbtli5Ts+81lK1SYB6Zl+\n",
       "M9FvV+mrT2OiCkXFHBVgTt1AtozUSpgcChTUQ/hvwZYe+r4BIhClBuro57+W9dikT4RJ3RejZgDi\n",
       "3Llmt7axfaqyCudkZptQLfs4UmpkuA+YMPGGTFhpn8FevX6Fsww6aNr9xodCWs4Ar/fhjt1WCv4J\n",
       "cIvKD/AAAADZAZ9LakP/AAADACJRIYpgAADN84qiiG0Kd6t2ABDYcD9fVqtEE34E8r/EdZmm3hX0\n",
       "tiS4v26+vVDo/nr/aEBf3nwbF1SuACzBpYbaX5v8Ft5D8p/oU+3DqTS5/v42aTib6ax7aOfgel5u\n",
       "sx0zvlglmpaKLUsGHJo+jqoOG4p7wv9KltiRa0853WVMuqjR6OSGJ+OFSt08aWmNodl8Fc5xRnlf\n",
       "0xqf03tVBuUyKGWcFPF2/H2L54ovN+q5FRUq63cNAvP/fvaUwZEcwPuA9mNmnAhuELNbohCXgAAA\n",
       "ANdBm01J4Q8mUwII//61KoAAAAMAAAMAAAaD4+ZK6bD3/Y2c3Rv8dV4gABdnWLhLziTlw1Tlr4zY\n",
       "q/L6SPci2ytnkSC7ax3JHemTkV25Ix2Jkn+tE6XohzTgBjxBJME7LP4PEhcnlzcanUsKd0Se56Jc\n",
       "gXmj+19alqm3fSLYbw80jZ+KdMNnaFkWdVUiffT8plpu27WGd09RFxMgNyyDlLZ0GjNIweu2hWqF\n",
       "ls9YStpgEIft0GuhvAv6ds1fWhPsx/bVx7aftBZTTSgXg/pdIAXlT1EbZ/Qd0QAAAKFBm25J4Q8m\n",
       "UwII//61KoAAAAMAAAMAAAMB3/j5krpsHRAUElmQAGcdYuCwE4GbLYbqjDCv5c6jFvT3DkhUv2Q/\n",
       "LF/qpoJ2GDRoRkzEOSKbZAkPv88CTa7GeQmooLOwA2eXIaABuL/jJc8Oq9A1UyLQJ86eHYg+alZz\n",
       "k/wP5oW8Fa3DAqX3gAfLI8BX4DhpEHyfhyAMifmFFU96jluYWniTgQAAAG5Bm49J4Q8mUwIIf/6q\n",
       "VQAAAwAAAwAAAwADae9SslfTQ4xMwkpCFmBIiWq4SADb1W/pZp1f1AdXXMLupAvWwLlk7F3vOML4\n",
       "oia721cwRbJG4k+Yti2qPWf7RPj0AY8ojtTVNugmQBT+DM6bv9yIoQAAAGtBm7BJ4Q8mUwIf//6p\n",
       "lgAAAwAAAwAAAwAMZ7pRzP0pqW+omAFYp3BbFb1qj7VvYFPa2PoCt/np6Yg//1IVLz9uY5bKC/TG\n",
       "MLU3ThDbTAl82J+yNe+P16CTcj5QnQnLKmGIlojl1KrJLf4l4AAAA7ttb292AAAAbG12aGQAAAAA\n",
       "AAAAAAAAAAAAAAPoAAANSAABAAABAAAAAAAAAAAAAAAAAQAAAAAAAAAAAAAAAAAAAAEAAAAAAAAA\n",
       "AAAAAAAAAEAAAAAAAAAAAAAAAAAAAAAAAAAAAAAAAAAAAAAAAAACAAAC5XRyYWsAAABcdGtoZAAA\n",
       "AAMAAAAAAAAAAAAAAAEAAAAAAAANSAAAAAAAAAAAAAAAAAAAAAAAAQAAAAAAAAAAAAAAAAAAAAEA\n",
       "AAAAAAAAAAAAAAAAAEAAAAAC0AAAAtAAAAAAACRlZHRzAAAAHGVsc3QAAAAAAAAAAQAADUgAABAA\n",
       "AAEAAAAAAl1tZGlhAAAAIG1kaGQAAAAAAAAAAAAAAAAAACgAAACIAFXEAAAAAAAtaGRscgAAAAAA\n",
       "AAAAdmlkZQAAAAAAAAAAAAAAAFZpZGVvSGFuZGxlcgAAAAIIbWluZgAAABR2bWhkAAAAAQAAAAAA\n",
       "AAAAAAAAJGRpbmYAAAAcZHJlZgAAAAAAAAABAAAADHVybCAAAAABAAAByHN0YmwAAAC0c3RzZAAA\n",
       "AAAAAAABAAAApGF2YzEAAAAAAAAAAQAAAAAAAAAAAAAAAAAAAAAC0ALQAEgAAABIAAAAAAAAAAEA\n",
       "AAAAAAAAAAAAAAAAAAAAAAAAAAAAAAAAAAAAAAAAAAAY//8AAAAyYXZjQwFkAB//4QAZZ2QAH6zZ\n",
       "QLQW6EAAAAMAQAAAAwKDxgxlgAEABmjr48siwAAAABx1dWlka2hA8l8kT8W6OaUbzwMj8wAAAAAA\n",
       "AAAYc3R0cwAAAAAAAAABAAAAEQAACAAAAAAUc3RzcwAAAAAAAAABAAAAAQAAAFhjdHRzAAAAAAAA\n",
       "AAkAAAAFAAAQAAAAAAEAABgAAAAAAQAACAAAAAACAAAQAAAAAAEAABgAAAAAAQAACAAAAAABAAAY\n",
       "AAAAAAEAAAgAAAAABAAAEAAAAAAcc3RzYwAAAAAAAAABAAAAAQAAABEAAAABAAAAWHN0c3oAAAAA\n",
       "AAAAAAAAABEAAAhvAAAA1gAAAM0AAAB+AAAAkQAAAMkAAAC5AAAAnAAAAF0AAACyAAAAQwAAAN4A\n",
       "AADdAAAA2wAAAKUAAAByAAAAbwAAABRzdGNvAAAAAAAAAAEAAAAsAAAAYnVkdGEAAABabWV0YQAA\n",
       "AAAAAAAhaGRscgAAAAAAAAAAbWRpcmFwcGwAAAAAAAAAAAAAAAAtaWxzdAAAACWpdG9vAAAAHWRh\n",
       "dGEAAAABAAAAAExhdmY1Ny43MS4xMDA=\n",
       "\">\n",
       "  Your browser does not support the video tag.\n",
       "</video>"
      ],
      "text/plain": [
       "<IPython.core.display.HTML object>"
      ]
     },
     "execution_count": 32,
     "metadata": {},
     "output_type": "execute_result"
    }
   ],
   "source": [
    "# Requires ffmpeg installed - `brew install ffmpeg` on Mac\n",
    "HTML(anim.to_html5_video())"
   ]
  },
  {
   "cell_type": "code",
   "execution_count": null,
   "metadata": {
    "collapsed": true
   },
   "outputs": [],
   "source": []
  }
 ],
 "metadata": {
  "kernelspec": {
   "display_name": "Python 3",
   "language": "python",
   "name": "python3"
  },
  "language_info": {
   "codemirror_mode": {
    "name": "ipython",
    "version": 3
   },
   "file_extension": ".py",
   "mimetype": "text/x-python",
   "name": "python",
   "nbconvert_exporter": "python",
   "pygments_lexer": "ipython3",
   "version": "3.6.1"
  }
 },
 "nbformat": 4,
 "nbformat_minor": 2
}
