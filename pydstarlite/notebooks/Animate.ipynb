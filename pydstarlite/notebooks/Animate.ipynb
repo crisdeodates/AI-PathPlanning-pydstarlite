{
 "cells": [
  {
   "cell_type": "code",
   "execution_count": 1,
   "metadata": {},
   "outputs": [],
   "source": [
    "from pydstarlite.implementation import *\n",
    "from pydstarlite.lpa_star import LPAStar\n",
    "from pydstarlite.dstarlite import DStarLite\n",
    "from matplotlib import pyplot as plt\n",
    "import numpy as np\n",
    "from matplotlib import animation\n",
    "from IPython.display import HTML\n",
    "%matplotlib inline"
   ]
  },
  {
   "cell_type": "code",
   "execution_count": 72,
   "metadata": {
    "collapsed": true
   },
   "outputs": [],
   "source": [
    "from pydstarlite.implementation import draw_grid"
   ]
  },
  {
   "cell_type": "code",
   "execution_count": 131,
   "metadata": {
    "collapsed": true
   },
   "outputs": [],
   "source": [
    "GRAPH, START, END = grid_from_string(\"\"\"\n",
    "..............................\n",
    "...######....######....######.\n",
    ".......A#.........#.........#.\n",
    "...######....######....######.\n",
    "...#....#....#....#....#....#.\n",
    "...#....#....#....#....#....#.\n",
    "........#.........#.........#.\n",
    "........#.........#.........#.\n",
    "........#.........#.........#.\n",
    "..............................\n",
    "..............................\n",
    "...######............######...\n",
    "........#...................#.\n",
    "...################....######.\n",
    "...#....#.........#....#....#.\n",
    "...#....#.........#....#....#.\n",
    "........#.........#.........#.\n",
    "........#.........#.........#.\n",
    "........#.........#.........#.\n",
    "..............................\n",
    "..............................\n",
    "...######....######....######.\n",
    "........#.........#.........#.\n",
    "...######....################.\n",
    "...#....#....#....#....#......\n",
    "...#....#....#....#....#......\n",
    "........#.........#...........\n",
    "........#.........#.....Z.....\n",
    "........#.........#...........\n",
    "..............................\n",
    "\"\"\")"
   ]
  },
  {
   "cell_type": "code",
   "execution_count": 132,
   "metadata": {
    "scrolled": true
   },
   "outputs": [
    {
     "name": "stdout",
     "output_type": "stream",
     "text": [
      ". . . . . . . . . . . . . . . . . . . . . . . . . . . . . . \n",
      ". . . ############. . . . ############. . . . ############. \n",
      ". . . . . . . A ##. . . . . . . . . ##. . . . . . . . . ##. \n",
      ". . . ############. . . . ############. . . . ############. \n",
      ". . . ##. . . . ##. . . . ##. . . . ##. . . . ##. . . . ##. \n",
      ". . . ##. . . . ##. . . . ##. . . . ##. . . . ##. . . . ##. \n",
      ". . . . . . . . ##. . . . . . . . . ##. . . . . . . . . ##. \n",
      ". . . . . . . . ##. . . . . . . . . ##. . . . . . . . . ##. \n",
      ". . . . . . . . ##. . . . . . . . . ##. . . . . . . . . ##. \n",
      ". . . . . . . . . . . . . . . . . . . . . . . . . . . . . . \n",
      ". . . . . . . . . . . . . . . . . . . . . . . . . . . . . . \n",
      ". . . ############. . . . . . . . . . . . ############. . . \n",
      ". . . . . . . . ##. . . . . . . . . . . . . . . . . . . ##. \n",
      ". . . ################################. . . . ############. \n",
      ". . . ##. . . . ##. . . . . . . . . ##. . . . ##. . . . ##. \n",
      ". . . ##. . . . ##. . . . . . . . . ##. . . . ##. . . . ##. \n",
      ". . . . . . . . ##. . . . . . . . . ##. . . . . . . . . ##. \n",
      ". . . . . . . . ##. . . . . . . . . ##. . . . . . . . . ##. \n",
      ". . . . . . . . ##. . . . . . . . . ##. . . . . . . . . ##. \n",
      ". . . . . . . . . . . . . . . . . . . . . . . . . . . . . . \n",
      ". . . . . . . . . . . . . . . . . . . . . . . . . . . . . . \n",
      ". . . ############. . . . ############. . . . ############. \n",
      ". . . . . . . . ##. . . . . . . . . ##. . . . . . . . . ##. \n",
      ". . . ############. . . . ################################. \n",
      ". . . ##. . . . ##. . . . ##. . . . ##. . . . ##. . . . . . \n",
      ". . . ##. . . . ##. . . . ##. . . . ##. . . . ##. . . . . . \n",
      ". . . . . . . . ##. . . . . . . . . ##. . . . . . . . . . . \n",
      ". . . . . . . . ##. . . . . . . . . ##. . . . . Z . . . . . \n",
      ". . . . . . . . ##. . . . . . . . . ##. . . . . . . . . . . \n",
      ". . . . . . . . . . . . . . . . . . . . . . . . . . . . . . \n"
     ]
    }
   ],
   "source": [
    "draw_grid(GRAPH, start=START, goal=END)"
   ]
  },
  {
   "cell_type": "code",
   "execution_count": 133,
   "metadata": {
    "collapsed": true
   },
   "outputs": [],
   "source": [
    "def empty_image(graph):\n",
    "    image = 0.5 * np.ones((GRAPH.width, GRAPH.height, 4))\n",
    "    image[:, :, 3] = 1\n",
    "    return image"
   ]
  },
  {
   "cell_type": "code",
   "execution_count": 134,
   "metadata": {},
   "outputs": [
    {
     "data": {
      "image/png": "[encoded data removed]",
      "text/plain": [
       "<matplotlib.figure.Figure at 0x10a77a128>"
      ]
     },
     "metadata": {},
     "output_type": "display_data"
    }
   ],
   "source": [
    "data = empty_image(GRAPH)\n",
    "fig = plt.figure(figsize=(10,10))\n",
    "ax = plt.axes()\n",
    "img = ax.imshow(data)"
   ]
  },
  {
   "cell_type": "code",
   "execution_count": 135,
   "metadata": {},
   "outputs": [],
   "source": [
    "dstar = DStarLite(GRAPH, START, END)"
   ]
  },
  {
   "cell_type": "code",
   "execution_count": 136,
   "metadata": {
    "collapsed": true
   },
   "outputs": [],
   "source": [
    "SIMULATION = dstar.move_to_goal()"
   ]
  },
  {
   "cell_type": "code",
   "execution_count": 137,
   "metadata": {
    "collapsed": true
   },
   "outputs": [],
   "source": [
    "def init():\n",
    "    img.set_data(data)\n",
    "    return img,"
   ]
  },
  {
   "cell_type": "code",
   "execution_count": 138,
   "metadata": {
    "collapsed": true
   },
   "outputs": [],
   "source": [
    "def animate(args):\n",
    "    (position, observation, walls) = args\n",
    "    tmp = empty_image(GRAPH)\n",
    "\n",
    "    tmp[position[1], position[0]] = [1, 0, 0, 1]\n",
    "    for (x, y) in walls:\n",
    "        tmp[y, x] = [0,0,0,1]\n",
    "    for (x, y) in observation.keys():\n",
    "        if (x, y) == position:\n",
    "            continue\n",
    "        else:\n",
    "            (r, g, b, a) = tmp[y, x]\n",
    "            tmp[y, x] = [r, g, b, 0.7]\n",
    "    img.set_data(tmp)\n",
    "    return img,"
   ]
  },
  {
   "cell_type": "code",
   "execution_count": 139,
   "metadata": {
    "collapsed": true
   },
   "outputs": [],
   "source": [
    "anim = animation.FuncAnimation(fig, animate, init_func=init,\n",
    "                               frames=SIMULATION, interval=200, blit=True)"
   ]
  },
  {
   "cell_type": "code",
   "execution_count": null,
   "metadata": {},
   "outputs": [],
   "source": [
    "# Requires ffmpeg installed - `brew install ffmpeg` on Mac\n",
    "HTML(anim.to_html5_video())"
   ]
  },
  {
   "cell_type": "code",
   "execution_count": null,
   "metadata": {
    "collapsed": true
   },
   "outputs": [],
   "source": []
  },
  {
   "cell_type": "code",
   "execution_count": null,
   "metadata": {
    "collapsed": true
   },
   "outputs": [],
   "source": []
  }
 ],
 "metadata": {
  "kernelspec": {
   "display_name": "Python 3",
   "language": "python",
   "name": "python3"
  },
  "language_info": {
   "codemirror_mode": {
    "name": "ipython",
    "version": 3
   },
   "file_extension": ".py",
   "mimetype": "text/x-python",
   "name": "python",
   "nbconvert_exporter": "python",
   "pygments_lexer": "ipython3",
   "version": "3.6.1"
  }
 },
 "nbformat": 4,
 "nbformat_minor": 2
}
